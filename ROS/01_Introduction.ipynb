{
 "cells": [
  {
   "cell_type": "markdown",
   "id": "c9d549aa",
   "metadata": {},
   "source": [
    "# Introduction\n",
    "\n",
    "## What Is ROS?\n",
    "\n",
    "ROS is an open-source, meta-operating system for your robot. It provides the services you would\n",
    "expect from an operating systemm, including hardware abstraction, low-level device control,\n",
    "implementation of commonly-used functionality, message-passing between processes, and package\n",
    "management.    \n",
    "\n",
    "It also provides tools and libraries for obtaining, building, writing, and running code across\n",
    "multiple comouters. ROS is similar in some respects to \"robot framesworks\" such as Player, YARP,\n",
    "Orocos, CARMEN, Orca, MOSS and Microsoft Robotics Studio.   \n",
    "\n",
    "The ROS runtime \"graph\" is a peer-to-peer network process (potentially distributed across\n",
    "machines) that are loosely coupled using tje ROS communication infrastructure. ROS implements\n",
    "several different styles of communcation, including synchronous"
   ]
  },
  {
   "cell_type": "code",
   "execution_count": null,
   "id": "95222998",
   "metadata": {},
   "outputs": [],
   "source": []
  }
 ],
 "metadata": {
  "kernelspec": {
   "display_name": "Python 3 (ipykernel)",
   "language": "python",
   "name": "python3"
  },
  "language_info": {
   "codemirror_mode": {
    "name": "ipython",
    "version": 3
   },
   "file_extension": ".py",
   "mimetype": "text/x-python",
   "name": "python",
   "nbconvert_exporter": "python",
   "pygments_lexer": "ipython3",
   "version": "3.10.1"
  }
 },
 "nbformat": 4,
 "nbformat_minor": 5
}
