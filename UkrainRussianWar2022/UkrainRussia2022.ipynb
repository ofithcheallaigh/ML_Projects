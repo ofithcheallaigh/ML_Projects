{
 "cells": [
  {
   "cell_type": "markdown",
   "id": "a490ed77",
   "metadata": {},
   "source": [
    "# EDA with R looking at the Russia-Ukraine war, 2022\n",
    "\n",
    "This work will hopefully contain some interesting EDA of the current war which resulted from the Russian invasion of Ukraine in 2022. The initial focus will be on equipment losses.    \n",
    "\n",
    "This work will also serve to try and imporve my skills with R."
   ]
  },
  {
   "cell_type": "code",
   "execution_count": 11,
   "id": "8150ef05",
   "metadata": {},
   "outputs": [],
   "source": [
    "# install.packages(\"plotly\")\n",
    "# install.packages(\"janitor\")"
   ]
  },
  {
   "cell_type": "code",
   "execution_count": 12,
   "id": "349fb906",
   "metadata": {},
   "outputs": [
    {
     "name": "stdout",
     "output_type": "stream",
     "text": [
      "[1] \"Library Import Completed\"\n"
     ]
    }
   ],
   "source": [
    "library(tidyverse)\n",
    "library(ggplot2)\n",
    "library(plotly)\n",
    "library(janitor)\n",
    "\n",
    "print(\"Library Import Completed\")"
   ]
  },
  {
   "cell_type": "code",
   "execution_count": 14,
   "id": "d18d7273",
   "metadata": {},
   "outputs": [
    {
     "name": "stdout",
     "output_type": "stream",
     "text": [
      "[1] \"Data Imported\"\n"
     ]
    }
   ],
   "source": [
    "equipment_data <- read.csv(file = 'Data/russia_losses_equipment.csv')\n",
    "personnel_data <- read.csv(file = 'Data/russia_losses_personnel.csv')\n",
    "print(\"Data Imported\")"
   ]
  },
  {
   "cell_type": "markdown",
   "id": "9c5f3be0",
   "metadata": {},
   "source": [
    "## Initial Look at the Data\n",
    "\n",
    "We will take a look at some of the data, to get a feel for what we are working with."
   ]
  },
  {
   "cell_type": "code",
   "execution_count": 17,
   "id": "f6ca5ba3",
   "metadata": {},
   "outputs": [
    {
     "data": {
      "text/html": [
       "<table class=\"dataframe\">\n",
       "<caption>A data.frame: 5 × 17</caption>\n",
       "<thead>\n",
       "\t<tr><th></th><th scope=col>date</th><th scope=col>day</th><th scope=col>aircraft</th><th scope=col>helicopter</th><th scope=col>tank</th><th scope=col>APC</th><th scope=col>field.artillery</th><th scope=col>MRL</th><th scope=col>military.auto</th><th scope=col>fuel.tank</th><th scope=col>drone</th><th scope=col>naval.ship</th><th scope=col>anti.aircraft.warfare</th><th scope=col>special.equipment</th><th scope=col>mobile.SRBM.system</th><th scope=col>vehicles.and.fuel.tanks</th><th scope=col>cruise.missiles</th></tr>\n",
       "\t<tr><th></th><th scope=col>&lt;chr&gt;</th><th scope=col>&lt;int&gt;</th><th scope=col>&lt;int&gt;</th><th scope=col>&lt;int&gt;</th><th scope=col>&lt;int&gt;</th><th scope=col>&lt;int&gt;</th><th scope=col>&lt;int&gt;</th><th scope=col>&lt;int&gt;</th><th scope=col>&lt;dbl&gt;</th><th scope=col>&lt;dbl&gt;</th><th scope=col>&lt;int&gt;</th><th scope=col>&lt;int&gt;</th><th scope=col>&lt;int&gt;</th><th scope=col>&lt;dbl&gt;</th><th scope=col>&lt;dbl&gt;</th><th scope=col>&lt;dbl&gt;</th><th scope=col>&lt;dbl&gt;</th></tr>\n",
       "</thead>\n",
       "<tbody>\n",
       "\t<tr><th scope=row>1</th><td>2022-02-25</td><td>2</td><td>10</td><td> 7</td><td> 80</td><td>516</td><td>49</td><td> 4</td><td>100</td><td>60</td><td>0</td><td>2</td><td>0</td><td>NA</td><td>NA</td><td>NA</td><td>NA</td></tr>\n",
       "\t<tr><th scope=row>2</th><td>2022-02-26</td><td>3</td><td>27</td><td>26</td><td>146</td><td>706</td><td>49</td><td> 4</td><td>130</td><td>60</td><td>2</td><td>2</td><td>0</td><td>NA</td><td>NA</td><td>NA</td><td>NA</td></tr>\n",
       "\t<tr><th scope=row>3</th><td>2022-02-27</td><td>4</td><td>27</td><td>26</td><td>150</td><td>706</td><td>50</td><td> 4</td><td>130</td><td>60</td><td>2</td><td>2</td><td>0</td><td>NA</td><td>NA</td><td>NA</td><td>NA</td></tr>\n",
       "\t<tr><th scope=row>4</th><td>2022-02-28</td><td>5</td><td>29</td><td>29</td><td>150</td><td>816</td><td>74</td><td>21</td><td>291</td><td>60</td><td>3</td><td>2</td><td>5</td><td>NA</td><td>NA</td><td>NA</td><td>NA</td></tr>\n",
       "\t<tr><th scope=row>5</th><td>2022-03-01</td><td>6</td><td>29</td><td>29</td><td>198</td><td>846</td><td>77</td><td>24</td><td>305</td><td>60</td><td>3</td><td>2</td><td>7</td><td>NA</td><td>NA</td><td>NA</td><td>NA</td></tr>\n",
       "</tbody>\n",
       "</table>\n"
      ],
      "text/latex": [
       "A data.frame: 5 × 17\n",
       "\\begin{tabular}{r|lllllllllllllllll}\n",
       "  & date & day & aircraft & helicopter & tank & APC & field.artillery & MRL & military.auto & fuel.tank & drone & naval.ship & anti.aircraft.warfare & special.equipment & mobile.SRBM.system & vehicles.and.fuel.tanks & cruise.missiles\\\\\n",
       "  & <chr> & <int> & <int> & <int> & <int> & <int> & <int> & <int> & <dbl> & <dbl> & <int> & <int> & <int> & <dbl> & <dbl> & <dbl> & <dbl>\\\\\n",
       "\\hline\n",
       "\t1 & 2022-02-25 & 2 & 10 &  7 &  80 & 516 & 49 &  4 & 100 & 60 & 0 & 2 & 0 & NA & NA & NA & NA\\\\\n",
       "\t2 & 2022-02-26 & 3 & 27 & 26 & 146 & 706 & 49 &  4 & 130 & 60 & 2 & 2 & 0 & NA & NA & NA & NA\\\\\n",
       "\t3 & 2022-02-27 & 4 & 27 & 26 & 150 & 706 & 50 &  4 & 130 & 60 & 2 & 2 & 0 & NA & NA & NA & NA\\\\\n",
       "\t4 & 2022-02-28 & 5 & 29 & 29 & 150 & 816 & 74 & 21 & 291 & 60 & 3 & 2 & 5 & NA & NA & NA & NA\\\\\n",
       "\t5 & 2022-03-01 & 6 & 29 & 29 & 198 & 846 & 77 & 24 & 305 & 60 & 3 & 2 & 7 & NA & NA & NA & NA\\\\\n",
       "\\end{tabular}\n"
      ],
      "text/markdown": [
       "\n",
       "A data.frame: 5 × 17\n",
       "\n",
       "| <!--/--> | date &lt;chr&gt; | day &lt;int&gt; | aircraft &lt;int&gt; | helicopter &lt;int&gt; | tank &lt;int&gt; | APC &lt;int&gt; | field.artillery &lt;int&gt; | MRL &lt;int&gt; | military.auto &lt;dbl&gt; | fuel.tank &lt;dbl&gt; | drone &lt;int&gt; | naval.ship &lt;int&gt; | anti.aircraft.warfare &lt;int&gt; | special.equipment &lt;dbl&gt; | mobile.SRBM.system &lt;dbl&gt; | vehicles.and.fuel.tanks &lt;dbl&gt; | cruise.missiles &lt;dbl&gt; |\n",
       "|---|---|---|---|---|---|---|---|---|---|---|---|---|---|---|---|---|---|\n",
       "| 1 | 2022-02-25 | 2 | 10 |  7 |  80 | 516 | 49 |  4 | 100 | 60 | 0 | 2 | 0 | NA | NA | NA | NA |\n",
       "| 2 | 2022-02-26 | 3 | 27 | 26 | 146 | 706 | 49 |  4 | 130 | 60 | 2 | 2 | 0 | NA | NA | NA | NA |\n",
       "| 3 | 2022-02-27 | 4 | 27 | 26 | 150 | 706 | 50 |  4 | 130 | 60 | 2 | 2 | 0 | NA | NA | NA | NA |\n",
       "| 4 | 2022-02-28 | 5 | 29 | 29 | 150 | 816 | 74 | 21 | 291 | 60 | 3 | 2 | 5 | NA | NA | NA | NA |\n",
       "| 5 | 2022-03-01 | 6 | 29 | 29 | 198 | 846 | 77 | 24 | 305 | 60 | 3 | 2 | 7 | NA | NA | NA | NA |\n",
       "\n"
      ],
      "text/plain": [
       "  date       day aircraft helicopter tank APC field.artillery MRL military.auto\n",
       "1 2022-02-25 2   10        7          80  516 49               4  100          \n",
       "2 2022-02-26 3   27       26         146  706 49               4  130          \n",
       "3 2022-02-27 4   27       26         150  706 50               4  130          \n",
       "4 2022-02-28 5   29       29         150  816 74              21  291          \n",
       "5 2022-03-01 6   29       29         198  846 77              24  305          \n",
       "  fuel.tank drone naval.ship anti.aircraft.warfare special.equipment\n",
       "1 60        0     2          0                     NA               \n",
       "2 60        2     2          0                     NA               \n",
       "3 60        2     2          0                     NA               \n",
       "4 60        3     2          5                     NA               \n",
       "5 60        3     2          7                     NA               \n",
       "  mobile.SRBM.system vehicles.and.fuel.tanks cruise.missiles\n",
       "1 NA                 NA                      NA             \n",
       "2 NA                 NA                      NA             \n",
       "3 NA                 NA                      NA             \n",
       "4 NA                 NA                      NA             \n",
       "5 NA                 NA                      NA             "
      ]
     },
     "metadata": {},
     "output_type": "display_data"
    }
   ],
   "source": [
    "head(equipment_data,5)"
   ]
  },
  {
   "cell_type": "code",
   "execution_count": 16,
   "id": "739b707c",
   "metadata": {},
   "outputs": [
    {
     "name": "stdout",
     "output_type": "stream",
     "text": [
      "Rows: 66\n",
      "Columns: 17\n",
      "$ date                    \u001b[3m\u001b[90m<chr>\u001b[39m\u001b[23m \"2022-02-25\", \"2022-02-26\", \"2022-02-27\", \"202…\n",
      "$ day                     \u001b[3m\u001b[90m<int>\u001b[39m\u001b[23m 2, 3, 4, 5, 6, 7, 8, 9, 10, 11, 12, 13, 14, 15…\n",
      "$ aircraft                \u001b[3m\u001b[90m<int>\u001b[39m\u001b[23m 10, 27, 27, 29, 29, 30, 30, 33, 39, 44, 46, 48…\n",
      "$ helicopter              \u001b[3m\u001b[90m<int>\u001b[39m\u001b[23m 7, 26, 26, 29, 29, 31, 31, 37, 40, 48, 68, 80,…\n",
      "$ tank                    \u001b[3m\u001b[90m<int>\u001b[39m\u001b[23m 80, 146, 150, 150, 198, 211, 217, 251, 269, 28…\n",
      "$ APC                     \u001b[3m\u001b[90m<int>\u001b[39m\u001b[23m 516, 706, 706, 816, 846, 862, 900, 939, 945, 9…\n",
      "$ field.artillery         \u001b[3m\u001b[90m<int>\u001b[39m\u001b[23m 49, 49, 50, 74, 77, 85, 90, 105, 105, 109, 117…\n",
      "$ MRL                     \u001b[3m\u001b[90m<int>\u001b[39m\u001b[23m 4, 4, 4, 21, 24, 40, 42, 50, 50, 50, 50, 56, 5…\n",
      "$ military.auto           \u001b[3m\u001b[90m<dbl>\u001b[39m\u001b[23m 100, 130, 130, 291, 305, 355, 374, 404, 409, 4…\n",
      "$ fuel.tank               \u001b[3m\u001b[90m<dbl>\u001b[39m\u001b[23m 60, 60, 60, 60, 60, 60, 60, 60, 60, 60, 60, 60…\n",
      "$ drone                   \u001b[3m\u001b[90m<int>\u001b[39m\u001b[23m 0, 2, 2, 3, 3, 3, 3, 3, 3, 4, 7, 7, 7, 7, 7, 7…\n",
      "$ naval.ship              \u001b[3m\u001b[90m<int>\u001b[39m\u001b[23m 2, 2, 2, 2, 2, 2, 2, 2, 2, 2, 3, 3, 3, 3, 3, 3…\n",
      "$ anti.aircraft.warfare   \u001b[3m\u001b[90m<int>\u001b[39m\u001b[23m 0, 0, 0, 5, 7, 9, 11, 18, 19, 21, 23, 27, 28, …\n",
      "$ special.equipment       \u001b[3m\u001b[90m<dbl>\u001b[39m\u001b[23m NA, NA, NA, NA, NA, NA, NA, NA, NA, NA, NA, NA…\n",
      "$ mobile.SRBM.system      \u001b[3m\u001b[90m<dbl>\u001b[39m\u001b[23m NA, NA, NA, NA, NA, NA, NA, NA, NA, NA, NA, NA…\n",
      "$ vehicles.and.fuel.tanks \u001b[3m\u001b[90m<dbl>\u001b[39m\u001b[23m NA, NA, NA, NA, NA, NA, NA, NA, NA, NA, NA, NA…\n",
      "$ cruise.missiles         \u001b[3m\u001b[90m<dbl>\u001b[39m\u001b[23m NA, NA, NA, NA, NA, NA, NA, NA, NA, NA, NA, NA…\n"
     ]
    }
   ],
   "source": [
    "glimpse(equipment_data)"
   ]
  },
  {
   "cell_type": "code",
   "execution_count": 18,
   "id": "b30a248e",
   "metadata": {},
   "outputs": [
    {
     "data": {
      "text/plain": [
       "     date                day           aircraft        helicopter   \n",
       " Length:66          Min.   : 2.00   Min.   : 10.00   Min.   :  7.0  \n",
       " Class :character   1st Qu.:18.25   1st Qu.: 74.75   1st Qu.: 87.0  \n",
       " Mode  :character   Median :34.50   Median :129.00   Median :130.0  \n",
       "                    Mean   :34.50   Mean   :116.41   Mean   :113.4  \n",
       "                    3rd Qu.:50.75   3rd Qu.:162.25   3rd Qu.:144.0  \n",
       "                    Max.   :67.00   Max.   :192.00   Max.   :155.0  \n",
       "                                                                    \n",
       "      tank             APC       field.artillery      MRL        \n",
       " Min.   :  80.0   Min.   : 516   Min.   : 49.0   Min.   :  4.00  \n",
       " 1st Qu.: 377.8   1st Qu.:1232   1st Qu.:142.5   1st Qu.: 62.50  \n",
       " Median : 601.0   Median :1716   Median :304.0   Median : 96.00  \n",
       " Mean   : 576.2   Mean   :1631   Mean   :268.7   Mean   : 91.76  \n",
       " 3rd Qu.: 755.2   3rd Qu.:1974   3rd Qu.:366.0   3rd Qu.:122.00  \n",
       " Max.   :1026.0   Max.   :2471   Max.   :451.0   Max.   :151.00  \n",
       "                                                                 \n",
       " military.auto    fuel.tank         drone          naval.ship   \n",
       " Min.   : 100   Min.   :60.00   Min.   :  0.00   Min.   :2.000  \n",
       " 1st Qu.: 600   1st Qu.:60.00   1st Qu.:  7.25   1st Qu.:3.000  \n",
       " Median :1178   Median :73.00   Median : 76.00   Median :7.000  \n",
       " Mean   :1048   Mean   :69.32   Mean   : 82.17   Mean   :5.409  \n",
       " 3rd Qu.:1437   3rd Qu.:76.00   3rd Qu.:134.75   3rd Qu.:7.750  \n",
       " Max.   :1701   Max.   :76.00   Max.   :245.00   Max.   :8.000  \n",
       " NA's   :1      NA's   :1                                       \n",
       " anti.aircraft.warfare special.equipment mobile.SRBM.system\n",
       " Min.   : 0.00         Min.   :10.00     Min.   :2.000     \n",
       " 1st Qu.:34.00         1st Qu.:21.00     1st Qu.:4.000     \n",
       " Median :54.00         Median :25.00     Median :4.000     \n",
       " Mean   :47.12         Mean   :23.13     Mean   :3.944     \n",
       " 3rd Qu.:65.50         3rd Qu.:27.00     3rd Qu.:4.000     \n",
       " Max.   :80.00         Max.   :32.00     Max.   :4.000     \n",
       "                       NA's   :19        NA's   :30        \n",
       " vehicles.and.fuel.tanks cruise.missiles\n",
       " Min.   :1796            Min.   :84     \n",
       " 1st Qu.:1796            1st Qu.:84     \n",
       " Median :1796            Median :84     \n",
       " Mean   :1796            Mean   :84     \n",
       " 3rd Qu.:1796            3rd Qu.:84     \n",
       " Max.   :1796            Max.   :84     \n",
       " NA's   :65              NA's   :65     "
      ]
     },
     "metadata": {},
     "output_type": "display_data"
    }
   ],
   "source": [
    "summary(equipment_data)"
   ]
  },
  {
   "cell_type": "markdown",
   "id": "d10c09f8",
   "metadata": {},
   "source": [
    "We will `clean` the column header names"
   ]
  },
  {
   "cell_type": "code",
   "execution_count": 19,
   "id": "7371bbe3",
   "metadata": {},
   "outputs": [],
   "source": [
    "clean_equipment_data <- clean_names(equipment_data)"
   ]
  },
  {
   "cell_type": "code",
   "execution_count": 20,
   "id": "5dda93af",
   "metadata": {},
   "outputs": [
    {
     "data": {
      "text/html": [
       "<table class=\"dataframe\">\n",
       "<caption>A data.frame: 5 × 17</caption>\n",
       "<thead>\n",
       "\t<tr><th></th><th scope=col>date</th><th scope=col>day</th><th scope=col>aircraft</th><th scope=col>helicopter</th><th scope=col>tank</th><th scope=col>apc</th><th scope=col>field_artillery</th><th scope=col>mrl</th><th scope=col>military_auto</th><th scope=col>fuel_tank</th><th scope=col>drone</th><th scope=col>naval_ship</th><th scope=col>anti_aircraft_warfare</th><th scope=col>special_equipment</th><th scope=col>mobile_srbm_system</th><th scope=col>vehicles_and_fuel_tanks</th><th scope=col>cruise_missiles</th></tr>\n",
       "\t<tr><th></th><th scope=col>&lt;chr&gt;</th><th scope=col>&lt;int&gt;</th><th scope=col>&lt;int&gt;</th><th scope=col>&lt;int&gt;</th><th scope=col>&lt;int&gt;</th><th scope=col>&lt;int&gt;</th><th scope=col>&lt;int&gt;</th><th scope=col>&lt;int&gt;</th><th scope=col>&lt;dbl&gt;</th><th scope=col>&lt;dbl&gt;</th><th scope=col>&lt;int&gt;</th><th scope=col>&lt;int&gt;</th><th scope=col>&lt;int&gt;</th><th scope=col>&lt;dbl&gt;</th><th scope=col>&lt;dbl&gt;</th><th scope=col>&lt;dbl&gt;</th><th scope=col>&lt;dbl&gt;</th></tr>\n",
       "</thead>\n",
       "<tbody>\n",
       "\t<tr><th scope=row>1</th><td>2022-02-25</td><td>2</td><td>10</td><td> 7</td><td> 80</td><td>516</td><td>49</td><td> 4</td><td>100</td><td>60</td><td>0</td><td>2</td><td>0</td><td>NA</td><td>NA</td><td>NA</td><td>NA</td></tr>\n",
       "\t<tr><th scope=row>2</th><td>2022-02-26</td><td>3</td><td>27</td><td>26</td><td>146</td><td>706</td><td>49</td><td> 4</td><td>130</td><td>60</td><td>2</td><td>2</td><td>0</td><td>NA</td><td>NA</td><td>NA</td><td>NA</td></tr>\n",
       "\t<tr><th scope=row>3</th><td>2022-02-27</td><td>4</td><td>27</td><td>26</td><td>150</td><td>706</td><td>50</td><td> 4</td><td>130</td><td>60</td><td>2</td><td>2</td><td>0</td><td>NA</td><td>NA</td><td>NA</td><td>NA</td></tr>\n",
       "\t<tr><th scope=row>4</th><td>2022-02-28</td><td>5</td><td>29</td><td>29</td><td>150</td><td>816</td><td>74</td><td>21</td><td>291</td><td>60</td><td>3</td><td>2</td><td>5</td><td>NA</td><td>NA</td><td>NA</td><td>NA</td></tr>\n",
       "\t<tr><th scope=row>5</th><td>2022-03-01</td><td>6</td><td>29</td><td>29</td><td>198</td><td>846</td><td>77</td><td>24</td><td>305</td><td>60</td><td>3</td><td>2</td><td>7</td><td>NA</td><td>NA</td><td>NA</td><td>NA</td></tr>\n",
       "</tbody>\n",
       "</table>\n"
      ],
      "text/latex": [
       "A data.frame: 5 × 17\n",
       "\\begin{tabular}{r|lllllllllllllllll}\n",
       "  & date & day & aircraft & helicopter & tank & apc & field\\_artillery & mrl & military\\_auto & fuel\\_tank & drone & naval\\_ship & anti\\_aircraft\\_warfare & special\\_equipment & mobile\\_srbm\\_system & vehicles\\_and\\_fuel\\_tanks & cruise\\_missiles\\\\\n",
       "  & <chr> & <int> & <int> & <int> & <int> & <int> & <int> & <int> & <dbl> & <dbl> & <int> & <int> & <int> & <dbl> & <dbl> & <dbl> & <dbl>\\\\\n",
       "\\hline\n",
       "\t1 & 2022-02-25 & 2 & 10 &  7 &  80 & 516 & 49 &  4 & 100 & 60 & 0 & 2 & 0 & NA & NA & NA & NA\\\\\n",
       "\t2 & 2022-02-26 & 3 & 27 & 26 & 146 & 706 & 49 &  4 & 130 & 60 & 2 & 2 & 0 & NA & NA & NA & NA\\\\\n",
       "\t3 & 2022-02-27 & 4 & 27 & 26 & 150 & 706 & 50 &  4 & 130 & 60 & 2 & 2 & 0 & NA & NA & NA & NA\\\\\n",
       "\t4 & 2022-02-28 & 5 & 29 & 29 & 150 & 816 & 74 & 21 & 291 & 60 & 3 & 2 & 5 & NA & NA & NA & NA\\\\\n",
       "\t5 & 2022-03-01 & 6 & 29 & 29 & 198 & 846 & 77 & 24 & 305 & 60 & 3 & 2 & 7 & NA & NA & NA & NA\\\\\n",
       "\\end{tabular}\n"
      ],
      "text/markdown": [
       "\n",
       "A data.frame: 5 × 17\n",
       "\n",
       "| <!--/--> | date &lt;chr&gt; | day &lt;int&gt; | aircraft &lt;int&gt; | helicopter &lt;int&gt; | tank &lt;int&gt; | apc &lt;int&gt; | field_artillery &lt;int&gt; | mrl &lt;int&gt; | military_auto &lt;dbl&gt; | fuel_tank &lt;dbl&gt; | drone &lt;int&gt; | naval_ship &lt;int&gt; | anti_aircraft_warfare &lt;int&gt; | special_equipment &lt;dbl&gt; | mobile_srbm_system &lt;dbl&gt; | vehicles_and_fuel_tanks &lt;dbl&gt; | cruise_missiles &lt;dbl&gt; |\n",
       "|---|---|---|---|---|---|---|---|---|---|---|---|---|---|---|---|---|---|\n",
       "| 1 | 2022-02-25 | 2 | 10 |  7 |  80 | 516 | 49 |  4 | 100 | 60 | 0 | 2 | 0 | NA | NA | NA | NA |\n",
       "| 2 | 2022-02-26 | 3 | 27 | 26 | 146 | 706 | 49 |  4 | 130 | 60 | 2 | 2 | 0 | NA | NA | NA | NA |\n",
       "| 3 | 2022-02-27 | 4 | 27 | 26 | 150 | 706 | 50 |  4 | 130 | 60 | 2 | 2 | 0 | NA | NA | NA | NA |\n",
       "| 4 | 2022-02-28 | 5 | 29 | 29 | 150 | 816 | 74 | 21 | 291 | 60 | 3 | 2 | 5 | NA | NA | NA | NA |\n",
       "| 5 | 2022-03-01 | 6 | 29 | 29 | 198 | 846 | 77 | 24 | 305 | 60 | 3 | 2 | 7 | NA | NA | NA | NA |\n",
       "\n"
      ],
      "text/plain": [
       "  date       day aircraft helicopter tank apc field_artillery mrl military_auto\n",
       "1 2022-02-25 2   10        7          80  516 49               4  100          \n",
       "2 2022-02-26 3   27       26         146  706 49               4  130          \n",
       "3 2022-02-27 4   27       26         150  706 50               4  130          \n",
       "4 2022-02-28 5   29       29         150  816 74              21  291          \n",
       "5 2022-03-01 6   29       29         198  846 77              24  305          \n",
       "  fuel_tank drone naval_ship anti_aircraft_warfare special_equipment\n",
       "1 60        0     2          0                     NA               \n",
       "2 60        2     2          0                     NA               \n",
       "3 60        2     2          0                     NA               \n",
       "4 60        3     2          5                     NA               \n",
       "5 60        3     2          7                     NA               \n",
       "  mobile_srbm_system vehicles_and_fuel_tanks cruise_missiles\n",
       "1 NA                 NA                      NA             \n",
       "2 NA                 NA                      NA             \n",
       "3 NA                 NA                      NA             \n",
       "4 NA                 NA                      NA             \n",
       "5 NA                 NA                      NA             "
      ]
     },
     "metadata": {},
     "output_type": "display_data"
    }
   ],
   "source": [
    "head(clean_equipment_data,5)"
   ]
  },
  {
   "cell_type": "markdown",
   "id": "fd384433",
   "metadata": {},
   "source": [
    "Now we will look for duplicates"
   ]
  },
  {
   "cell_type": "code",
   "execution_count": 21,
   "id": "d374ea4b",
   "metadata": {},
   "outputs": [
    {
     "data": {
      "text/html": [
       "0"
      ],
      "text/latex": [
       "0"
      ],
      "text/markdown": [
       "0"
      ],
      "text/plain": [
       "[1] 0"
      ]
     },
     "metadata": {},
     "output_type": "display_data"
    }
   ],
   "source": [
    "sum(duplicated(clean_equipment_data))"
   ]
  },
  {
   "cell_type": "markdown",
   "id": "2bff3680",
   "metadata": {},
   "source": [
    "We have no duplicates in the equipment data.    \n",
    "\n",
    "Next, we will look for missing values"
   ]
  },
  {
   "cell_type": "code",
   "execution_count": 22,
   "id": "b087feeb",
   "metadata": {},
   "outputs": [
    {
     "data": {
      "text/html": [
       "181"
      ],
      "text/latex": [
       "181"
      ],
      "text/markdown": [
       "181"
      ],
      "text/plain": [
       "[1] 181"
      ]
     },
     "metadata": {},
     "output_type": "display_data"
    }
   ],
   "source": [
    "sum(is.na(clean_equipment_data))"
   ]
  },
  {
   "cell_type": "markdown",
   "id": "9eae9e60",
   "metadata": {},
   "source": [
    "So we have a number of missing values. These will need further investigation.    \n",
    "\n",
    "## Data Visualisation"
   ]
  },
  {
   "cell_type": "code",
   "execution_count": null,
   "id": "92b54f5b",
   "metadata": {},
   "outputs": [],
   "source": []
  }
 ],
 "metadata": {
  "kernelspec": {
   "display_name": "R",
   "language": "R",
   "name": "ir"
  },
  "language_info": {
   "codemirror_mode": "r",
   "file_extension": ".r",
   "mimetype": "text/x-r-source",
   "name": "R",
   "pygments_lexer": "r",
   "version": "4.1.1"
  }
 },
 "nbformat": 4,
 "nbformat_minor": 5
}
